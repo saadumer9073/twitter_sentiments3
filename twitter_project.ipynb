{
 "cells": [
  {
   "cell_type": "code",
   "execution_count": 6,
   "id": "8c5a113d-9011-41d4-8d9d-97ce49c4fa6a",
   "metadata": {},
   "outputs": [],
   "source": [
    "import tweepy\n",
    "from nltk.sentiment import SentimentIntensityAnalyzer\n",
    "import nltk\n",
    "import pandas as pd\n"
   ]
  },
  {
   "cell_type": "code",
   "execution_count": 7,
   "id": "f251580f-21e3-49d5-a261-7ece48730520",
   "metadata": {},
   "outputs": [
    {
     "name": "stderr",
     "output_type": "stream",
     "text": [
      "[nltk_data] Downloading package vader_lexicon to C:\\Users\\SAAD\n",
      "[nltk_data]     UMER\\AppData\\Roaming\\nltk_data...\n",
      "[nltk_data]   Package vader_lexicon is already up-to-date!\n"
     ]
    },
    {
     "data": {
      "text/plain": [
       "True"
      ]
     },
     "execution_count": 7,
     "metadata": {},
     "output_type": "execute_result"
    }
   ],
   "source": [
    "nltk.download('vader_lexicon')\n"
   ]
  },
  {
   "cell_type": "code",
   "execution_count": 14,
   "id": "b29ecdf3-0078-46cf-b5d1-8eda25e702c5",
   "metadata": {},
   "outputs": [],
   "source": [
    "BEARER_TOKEN = \"AAAAAAAAAAAAAAAAAAAAAKBx3QEAAAAAZDD8awXoqWuhKzc9SjqR5flXjb0%3Dvp96MktVXT7nONBVhmqeYiv1cXwYSjiP54xlm2z9Z2PWTdwsDR\"\n",
    "KEYWORD = \"football\"\n",
    "\n"
   ]
  },
  {
   "cell_type": "code",
   "execution_count": 16,
   "id": "1817e29c-631a-465c-a121-6de294273121",
   "metadata": {},
   "outputs": [
    {
     "name": "stdout",
     "output_type": "stream",
     "text": [
      "\n",
      "🔹 Tweet 1: @Mbahdeyforyou He's tired of suffering in Manchester, he need to move to west London and play good football, win trophies.\n",
      "Sentiment:  Positive (score=0.4767)\n",
      "\n",
      "🔹 Tweet 2: RT @7negiashish: Breaking: Khalid Jamil is the new head coach of Indian Football Team.  @KhelNow\n",
      "Sentiment:  Neutral (score=0.0)\n",
      "\n",
      "🔹 Tweet 3: RT @Rivals: Will Tennessee finish with a top-10 class? 👀\n",
      "\n",
      "The Vols currently have 23 commitments, led by 5-star QB Faizon Brandon.\n",
      "\n",
      "Top 202…\n",
      "Sentiment:  Positive (score=0.3182)\n",
      "\n",
      "🔹 Tweet 4: Tasked with replacing a star receiver from last year, Auburn High's Josh Askew and Antonio Welch are eyeing big senior seasons this fall. https://t.co/EZ2jHhT6v3\n",
      "Sentiment:  Neutral (score=0.0)\n",
      "\n",
      "🔹 Tweet 5: RT @BBCBreakfast: 'We all did it together'\n",
      "\n",
      "England's  Michelle Agyemang spoke to #BBCBreakfast about winning Euro 2025 and being the young…\n",
      "Sentiment:  Positive (score=0.5267)\n",
      "\n",
      "🔹 Tweet 6: RT @KieranMaguire: If there is a £150m signing in the Premier League this season it will only be the 9th highest in PL history after adjust…\n",
      "Sentiment:  Neutral (score=0.0)\n",
      "\n",
      "🔹 Tweet 7: RT @Stuckey2: Antonio Gates being the first player to make the hall of fame without playing college football will be an elite trivia questi…\n",
      "Sentiment:  Positive (score=0.32)\n",
      "\n",
      "🔹 Tweet 8: RT @4K_token: GM frens! ☀️ RT + DROP SOL  https://t.co/HECyGJOEa8\n",
      "CA B86RCJ7ai5pedHkfcpPBFaK93ed7uCfT3K7qG7qL1TxA\n",
      "Drop your fav football cl…\n",
      "Sentiment:  Negative (score=-0.3016)\n",
      "\n",
      "🔹 Tweet 9: RT @Radio_Chinar: Kashmir Super Football League 2025 officially launched by Minister Satish Sharma, along with the trophy &amp; jerseys! 🏆\n",
      "With…\n",
      "Sentiment:  Positive (score=0.69)\n",
      "\n",
      "🔹 Tweet 10: RT @On3sports: NEW: 2025 College Football Preseason Media All-ACC 1st Team‼️ \n",
      "\n",
      "Do you agree? ⬇️\n",
      "\n",
      "https://t.co/gA5L9OMd9w https://t.co/xZlOP…\n",
      "Sentiment:  Positive (score=0.3612)\n",
      "\n",
      "🔹 Tweet 11: RT @EvanVieth: We’re back for Day Two of Texas Football’s Fall Practice\n",
      "\n",
      "This year’s defensive line is giant. Somehow Justus Terry looks sm…\n",
      "Sentiment:  Neutral (score=0.0258)\n",
      "\n",
      "🔹 Tweet 12: RT @BobFighter_45: CNN believes the three thugs are \"possibly white.\"\n",
      "\n",
      "https://t.co/YHMdNS0PID\n",
      "Sentiment:  Neutral (score=0.0)\n",
      "\n",
      "🔹 Tweet 13: RT @TheLovelyEggs: 13 years in the making but we finally did it! Lovely Eggs Fuck It football scarves now available in club colours! Every…\n",
      "Sentiment:  Positive (score=0.2579)\n",
      "\n",
      "🔹 Tweet 14: RT @TheFergusonWay: 🚨 BREAKING:\n",
      "\n",
      "Manchester United are FRONTRUNNERS for Benjamin Sesko after positive talks this week.\n",
      "\n",
      "Sesko is keen to jo…\n",
      "Sentiment:  Positive (score=0.836)\n",
      "\n",
      "🔹 Tweet 15: RT @hlovo_: That’s why you should cherish your time with the star player because they’ll eventually move on to another club. You’ll also fi…\n",
      "Sentiment:  Positive (score=0.3818)\n",
      "\n",
      "🔹 Tweet 16: RT @PFF_College: CB1: Jermod McCoy, Tennessee\n",
      "CB2: ??\n",
      "\n",
      "PFF’s 2025 Preseason All-SEC Team⬇️\n",
      "\n",
      "https://t.co/OLRu6HqRWv\n",
      "Sentiment:  Neutral (score=0.0)\n",
      "\n",
      "🔹 Tweet 17: RT @TheFergusonWay: 🚨 BREAKING:\n",
      "\n",
      "Manchester United are FRONTRUNNERS for Benjamin Sesko after positive talks this week.\n",
      "\n",
      "Sesko is keen to jo…\n",
      "Sentiment:  Positive (score=0.836)\n"
     ]
    }
   ],
   "source": [
    "sia = SentimentIntensityAnalyzer()\n",
    "\n",
    "for i, tweet in enumerate(filtered_tweets, 1):\n",
    "    sentiment = sia.polarity_scores(tweet)\n",
    "    label = \" Positive\" if sentiment['compound'] > 0.05 else \" Neutral\" if sentiment['compound'] > -0.05 else \" Negative\"\n",
    "    print(f\"\\n🔹 Tweet {i}: {tweet}\\nSentiment: {label} (score={sentiment['compound']})\")\n"
   ]
  },
  {
   "cell_type": "code",
   "execution_count": 17,
   "id": "f934b040-7d72-4979-bd05-42c2a0502b92",
   "metadata": {},
   "outputs": [
    {
     "name": "stdout",
     "output_type": "stream",
     "text": [
      "Saved results to football_tweets.csv\n"
     ]
    }
   ],
   "source": [
    "df = pd.DataFrame(tweets_data)\n",
    "df.to_csv(\"football_tweets.csv\", index=False)\n",
    "print(\"Saved results to football_tweets.csv\")\n"
   ]
  },
  {
   "cell_type": "code",
   "execution_count": null,
   "id": "5534dcdc-ca1a-4c22-8182-1a76253c7f94",
   "metadata": {},
   "outputs": [],
   "source": []
  }
 ],
 "metadata": {
  "kernelspec": {
   "display_name": "Python 3 (ipykernel)",
   "language": "python",
   "name": "python3"
  },
  "language_info": {
   "codemirror_mode": {
    "name": "ipython",
    "version": 3
   },
   "file_extension": ".py",
   "mimetype": "text/x-python",
   "name": "python",
   "nbconvert_exporter": "python",
   "pygments_lexer": "ipython3",
   "version": "3.13.5"
  }
 },
 "nbformat": 4,
 "nbformat_minor": 5
}
